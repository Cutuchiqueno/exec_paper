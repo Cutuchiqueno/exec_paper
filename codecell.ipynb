{
    "cells": [
        {
            "cell_type": "code",
            "execution_count": 1,
            "source": [
                "import pandas\n",
                "for i in range(1, 10):\n",
                "    print(f\"Still waiting {10-i} steps ...\")"
            ],
            "outputs": [
                {
                    "output_type": "stream",
                    "name": "stdout",
                    "text": [
                        "Still waiting 9 steps ...\n",
                        "Still waiting 8 steps ...\n",
                        "Still waiting 7 steps ...\n",
                        "Still waiting 6 steps ...\n",
                        "Still waiting 5 steps ...\n",
                        "Still waiting 4 steps ...\n",
                        "Still waiting 3 steps ...\n",
                        "Still waiting 2 steps ...\n",
                        "Still waiting 1 steps ...\n"
                    ]
                }
            ],
            "metadata": {}
        }
    ],
    "metadata": {
        "language_info": {
            "name": "python",
            "version": "3.8.5",
            "mimetype": "text/x-python",
            "codemirror_mode": {
                "name": "ipython",
                "version": 3
            },
            "pygments_lexer": "ipython3",
            "nbconvert_exporter": "python",
            "file_extension": ".py"
        },
        "orig_nbformat": 2,
        "kernelspec": {
            "name": "python3",
            "display_name": "Python 3.8.5 64-bit"
        },
        "interpreter": {
            "hash": "e7370f93d1d0cde622a1f8e1c04877d8463912d04d973331ad4851f04de6915a"
        }
    },
    "nbformat": 4,
    "nbformat_minor": 2
}